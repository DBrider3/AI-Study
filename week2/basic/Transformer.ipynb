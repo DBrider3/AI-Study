{
  "cells": [
    {
      "cell_type": "markdown",
      "metadata": {
        "id": "ymxatB5WYxlL"
      },
      "source": [
        "# [2\uc8fc\ucc28] \uae30\ubcf8\uacfc\uc81c - \uc8fc\uc5b4\uc9c4 \ubb38\uc7a5\uc5d0\uc11c \ub098\uc62c \ub2e4\uc74c \ub2e8\uc5b4\ub97c \uc608\uce21\ud558\ub294 \ubaa8\ub378 \uad6c\ud604"
      ]
    },
    {
      "cell_type": "code",
      "execution_count": 35,
      "metadata": {
        "colab": {
          "base_uri": "https://localhost:8080/"
        },
        "id": "1X7RM2du1zcr",
        "outputId": "c087d159-a16c-434f-c750-303e422e1a5a"
      },
      "outputs": [
        {
          "name": "stderr",
          "output_type": "stream",
          "text": [
            "huggingface/tokenizers: The current process just got forked, after parallelism has already been used. Disabling parallelism to avoid deadlocks...\n",
            "To disable this warning, you can either:\n",
            "\t- Avoid using `tokenizers` before the fork if possible\n",
            "\t- Explicitly set the environment variable TOKENIZERS_PARALLELISM=(true | false)\n"
          ]
        },
        {
          "name": "stdout",
          "output_type": "stream",
          "text": [
            "\u001b[33mWARNING: Running pip as the 'root' user can result in broken permissions and conflicting behaviour with the system package manager, possibly rendering your system unusable. It is recommended to use a virtual environment instead: https://pip.pypa.io/warnings/venv. Use the --root-user-action option if you know what you are doing and want to suppress this warning.\u001b[0m\u001b[33m\n",
            "\u001b[0m"
          ]
        }
      ],
      "source": [
        "!pip install -q datasets sacremoses"
      ]
    },
    {
      "cell_type": "code",
      "execution_count": 50,
      "metadata": {
        "colab": {
          "base_uri": "https://localhost:8080/",
          "height": 532,
          "referenced_widgets": [
            "0f4e446050514365889c4eb9dff5de88",
            "3a138caed07a4584b609538c4c3bd44d",
            "823ae36c184f4bea923f66f149cdb2c8",
            "903886d3db83468db0033c265dae40eb",
            "385cdcd9586f4f7aaddb3a20882b4d36",
            "358c9e6abe794258942f0ff5c5a907d7",
            "594454b47ce845ae8ef4922fddfa1e9a",
            "547d38806f2c416bb91e6b8dcdef432a",
            "c64d0476638d4cf9830661503721b0f4",
            "fbc4156183034ad8bc4ff5d2bf5b80d5",
            "840eb1964d564035b446c21a5d788d41",
            "12399894157145ee933cec9f5752d7e2",
            "bc017b6463524c42b0f10aa2055ca9de",
            "037af4fcb9204f67b274949e199b3da7",
            "13ca45b81f674dc8b6b2d0ad39133551",
            "fde72b8ffaa84698938524c989489ca0",
            "1384266c5ebf4a829ea6d7cf647aa51c",
            "730b8ba12e944bf19beb2bc9c812f26d",
            "e73722f1b1904e679de02c1d90e2743c",
            "ab1e018afa044f2380c22ea5b63ec9db",
            "4d32e4f52b4647c590db47f6f94611d2",
            "ff48d8af58944227bbe8fb21245c27d7",
            "6dcee6630cfd44b48f0e0fdc10ddfdfe",
            "45c1ef2be2cc431c92ca9365eb79b73d",
            "5603b7bdab524257a4778f6174600f2f",
            "6acb34de196946dea69e5c87bb54aec7",
            "b970bdce1192499b832bf163cb828694",
            "5fadcfdbe2944b05abb7fa85486449a2",
            "296504ee7112414a9ebae9508acf5a4b",
            "24fd7f9f6da04b9cb61d4a0ba1ca246d",
            "76e499837474460d9affe6bc510aaf62",
            "a67078190c5b489e82b44a559649ccc8",
            "b8c79cb5c2cd404480cd791562404b0e",
            "c80009c84aa5405a8f45fd8027767dc0",
            "63f269d19f0e40b18984d9363e400642",
            "2c93f0f3e7ee4f4bac22c5854dd4984c",
            "473e56f9197a42149edb10c9c0446a67",
            "2cd20ceff68047d4803d6ad96cb81ff0",
            "1ef3df440ca6402fb1d4c98af4b9738d",
            "870e541d838d43588eedc3ce99a3df43",
            "c62ed553a7f545c7a46b4180c28e74e3",
            "e2a1bc95a51d40668f0303486f168984",
            "fd15b9ebb5544635b944a3246c2b8261",
            "b35924e6b0174c98b8dd30f144755b87",
            "ef3409c964bb484ca9b72d6a71822f95",
            "075de33ccefa462fb58e5acea2d696cd",
            "3bea0506936b424d957753d709b06b90",
            "4083818909e84e80975cff41c1ab56b1",
            "4563c76cfc964bd6859a6a4030aa80af",
            "ada45771deb047ee94456cc1663905a5",
            "9c4effcfc5b3481fb18419e73f01c377",
            "2c1cd7709e6644a39f719a0170582716",
            "03c8d227db4147968ac60dd6e26db7a9",
            "5ffddde737c94db686d0a7097229c32f",
            "ad45a5c4ae5e4a23a166227eda1a74fe",
            "a22d709089de441cac6b75096d26f618",
            "2bcd87c9fefe4106be0f8bd835fc3c1e",
            "0efc02fd6b8a47d68f8fa2c885ab3238",
            "d3e49dc892ee401ca4f9fe86cd40a29b",
            "534aa49d3325449e82615c9ed1498416",
            "d8a90875e2af41d1854168c2a4f5eb8a",
            "6959f43dc5e041daa23e598b87486340",
            "0eb543bb8be7444785504a299473e994",
            "201081c3f24b4d5ba9f5afd474a8ef52",
            "4475f0c7365742799c3c1c22e44d79f6",
            "02d696129906496ca8b0697d2e29979b",
            "1b6cb6ba00f24bb1b7eefd8132386f31",
            "87d8341335284c5bb9a39b7ce788b84f",
            "27f998200bc74b65ab935b4c937a7cea",
            "4401ea8d1aa3436eb2897f555d8a63d2",
            "b5306f8a11064050886ea14ff7149d5c",
            "e59c6bf74dd0453b8087aa81191bd6ba",
            "ab4b199cb2424a44ac45a16cdb11a75c",
            "9faabb1792e241e6bdac03776481ea93",
            "4a8711ceacc644cca6668ccc4522e757",
            "29fb4a17329d44cc8cefd21ab7bb7f44",
            "079bfa9675de4b3ea6e85c4d23c4677f",
            "022b5c58784247fead06ac5789f2c778",
            "2ad8bbcc839b4eda96917405c6e9bd0f",
            "2ce99939a9c243e485fbd5f5d12382c5",
            "3f0a44043ddd439bb08e8f014e39928c",
            "a760f033a24a41f39c6491da98c31d7c",
            "3debc49fe714441a935d66771e96c100",
            "a88a55599c764817ac310300b0ee5a19",
            "87bd19bc8b48493e9587852e40bb2f99",
            "e9ffa2de520f4dbd9a6f3f494640cb1c",
            "4eecc466e6ed41b2a943c29719fd78dd",
            "5f7dedfc58d74e2a8334b2f3e42fd227",
            "d101876e061a4a229e04e58c995e6578",
            "d6c2e85444c344478a32e081240910fb",
            "6e32dcf835f94439b1d9dc79b22ec980",
            "2eb2454a03fa41c7b9212f9ae1581011",
            "23a2a2cce9b346bba307e1e8ff6849ff",
            "16f1f743744246eeb4283712c2c19ece",
            "1c2f5961865a4a66a1332544ce3d883c",
            "73a07667e65549d6abb67fea5c532f52",
            "ddae9c135fa24d4eaecaaf0a5cad661b",
            "ff771e34f9c441c6ab8245bb4ddde0e3",
            "d21345829790452ebd2f1f9af934b0f0",
            "ebac4a651692494b86f2ac9f21d27faa",
            "21797059a8d642ac95c618e9e68a59d4",
            "bc2a5b1d73cd4d208f1598166562f703",
            "f7b0c7e63fe14169a43e3f604359719a",
            "6bb1e64dccef4046a99bd973be517ebb",
            "bf994f050f9d4f9485bdbc1e02991d55",
            "215fc31da68849f98f8234c463483af3",
            "7f9c881c6c184c5898fb9c948f5e0817",
            "05d438fb66cd4352b1e2e5dca60f4ed5",
            "d70722ae84ae48099d38e2fc64656202",
            "d37bd26c9c4a4e4a83782da7a18f7228",
            "b169e03047cc4391b06b9f9e2cf7ef9e",
            "a5919bd1399246f68f0a6785b3bad806",
            "046c7cccda784b2b8749f57b73e5eca3",
            "7c2986ad304243c9a3bb63d3b28364f7",
            "7bc4fd932f004be78660a17f739fa552",
            "840e2d5ac8b24637a633dc62ae85ea80",
            "8c0c450720274459813ba48acdb11c35",
            "70d22a19897d4d3b9ef6421373a3d8ca",
            "a355d61d642c40e287e396ff8aef43d7",
            "3372010061b046b4b261621b28a40fcd",
            "e11faafdbf8a4baaaa94cf950feb170f"
          ]
        },
        "id": "HOdhoBVA1zcu",
        "outputId": "ad8d9f38-18d3-430e-9b8e-73bbfd3dc072"
      },
      "outputs": [
        {
          "name": "stderr",
          "output_type": "stream",
          "text": [
            "Using cache found in /root/.cache/torch/hub/huggingface_pytorch-transformers_main\n"
          ]
        }
      ],
      "source": [
        "import torch\n",
        "from datasets import load_dataset\n",
        "from torch.utils.data import DataLoader\n",
        "from transformers import BertTokenizerFast\n",
        "from tokenizers import (\n",
        "    decoders,\n",
        "    models,\n",
        "    normalizers,\n",
        "    pre_tokenizers,\n",
        "    processors,\n",
        "    trainers,\n",
        "    Tokenizer,\n",
        ")\n",
        "\n",
        "\n",
        "# ds = load_dataset(\"stanfordnlp/imdb\")\n",
        "train_ds = load_dataset(\"stanfordnlp/imdb\", split=\"train[:5%]\")\n",
        "test_ds = load_dataset(\"stanfordnlp/imdb\", split=\"test[:5%]\")\n",
        "\n",
        "tokenizer = torch.hub.load('huggingface/pytorch-transformers', 'tokenizer', 'bert-base-uncased')\n",
        "\n",
        "\n",
        "from torch.nn.utils.rnn import pad_sequence\n",
        "\n",
        "def collate_fn(batch):\n",
        "  max_len = 400\n",
        "  texts, labels = [], []\n",
        "  for row in batch:\n",
        "    # \uae30\uc874\n",
        "    # labels.append(row['label'])\n",
        "    # texts.append(row['text'])\n",
        "    \n",
        "    # TODO: \ubcc0\ud654 \ud558\ub294 \uc810\n",
        "    # \ubb38\uc7a5\uc758 \ub9c8\uc9c0\ub9c9 3\uac1c \ud1a0\ud070 \uc911, \u201c-3\u201d \uc704\uce58\ub97c label\ub85c \uc9c0\uc815\n",
        "    labels.append(tokenizer(row['text'], truncation=True, max_length=max_len).input_ids[-3])\n",
        "    # \ub9c8\uc9c0\ub9c9 3\uac1c \ud1a0\ud070 \uc804\uae4c\uc9c0\ub97c \uc785\ub825 \ud150\uc11c\ub85c \uc774\uc6a9\n",
        "    texts.append(torch.LongTensor(tokenizer(row['text'], truncation=True, max_length=max_len).input_ids[:-3]))\n",
        "\n",
        "  # \uae30\uc874\n",
        "  # texts = torch.LongTensor(tokenizer(texts, padding=True, truncation=True, max_length=max_len).input_ids)\n",
        "  # labels = torch.LongTensor(labels)\n",
        "  \n",
        "  # TODO: \ubcc0\ud654 \ud558\ub294 \uc810\n",
        "  # Pad \ucc98\ub9ac\n",
        "  texts = pad_sequence(texts, batch_first=True, padding_value=tokenizer.pad_token_id)\n",
        "  labels = torch.LongTensor(labels)\n",
        "\n",
        "  return texts, labels"
      ]
    },
    {
      "cell_type": "code",
      "execution_count": 72,
      "metadata": {},
      "outputs": [],
      "source": [
        "batch_sizes = [64, 128, 256, 512, 1024, 2048]\n",
        "lr = [0.001, 0.002, 0.003, 0.004, 0.005, 0.006]\n",
        "\n",
        "batch_size = batch_sizes[2]\n",
        "\n",
        "train_loader = DataLoader(\n",
        "    train_ds, batch_size=batch_size, shuffle=True, collate_fn=collate_fn\n",
        ")\n",
        "test_loader = DataLoader(\n",
        "    test_ds, batch_size=batch_size, shuffle=False, collate_fn=collate_fn\n",
        ")"
      ]
    },
    {
      "cell_type": "markdown",
      "metadata": {
        "id": "i-FshZcTZBQ2"
      },
      "source": [
        "## Self-attention\n",
        "\n",
        "\uc774\ubc88\uc5d0\ub294 self-attention\uc744 \uad6c\ud604\ud574\ubcf4\uaca0\uc2b5\ub2c8\ub2e4.\n",
        "Self-attention\uc740 shape\uc774 (B, S, D)\uc778 embedding\uc774 \ub4e4\uc5b4\uc654\uc744 \ub54c attention\uc744 \uc801\uc6a9\ud558\uc5ec \uc0c8\ub85c\uc6b4 representation\uc744 \ub9cc\ub4e4\uc5b4\ub0b4\ub294 module\uc785\ub2c8\ub2e4.\n",
        "\uc5ec\uae30\uc11c B\ub294 batch size, S\ub294 sequence length, D\ub294 embedding \ucc28\uc6d0\uc785\ub2c8\ub2e4.\n",
        "\uad6c\ud604\uc740 \ub2e4\uc74c\uacfc \uac19\uc2b5\ub2c8\ub2e4."
      ]
    },
    {
      "cell_type": "code",
      "execution_count": 37,
      "metadata": {
        "id": "MBlMVMZcRAxv"
      },
      "outputs": [],
      "source": [
        "from torch import nn\n",
        "from math import sqrt\n",
        "\n",
        "\n",
        "class SelfAttention(nn.Module):\n",
        "  def __init__(self, input_dim, d_model):\n",
        "    super().__init__()\n",
        "\n",
        "    # \uc785\ub825 \ubca1\ud130 \ucc28\uc6d0(32)\n",
        "    self.input_dim = input_dim\n",
        "\n",
        "    # Query / Key / Value \ubc0f \ucd5c\uc885 \ucd9c\ub825\uc758 \ucc28\uc6d0 (32)\n",
        "    # Q, K, V\ub97c \uad6c\ud558\uae30 \uc704\ud55c \uc120\ud615 \ubcc0\ud658(\uac00\uc911\uce58 Wq, Wk, Wv)\n",
        "    self.d_model = d_model\n",
        "\n",
        "    # Query / Key / Value \ubca1\ud130\ub97c \ub9cc\ub4e4\uae30 \uc704\ud55c \uac00\uc911\uce58 \ud589\ub82c\uac12\n",
        "    self.wq = nn.Linear(input_dim, d_model)\n",
        "    self.wk = nn.Linear(input_dim, d_model)\n",
        "    self.wv = nn.Linear(input_dim, d_model)\n",
        "\n",
        "    # Self-Attention \uacb0\uacfc\ub97c \ub2e4\uc74c \ub808\uc774\uc5b4\ub85c \ub118\uae30\uae30 \uc804\uc5d0 \uc120\ud615 \ubcc0\ud658\n",
        "    # \ucd5c\uc885 \ucd9c\ub825\uc5d0 \ub2e4\uc2dc \ud55c \ubc88 \uc120\ud615 \ubcc0\ud658\n",
        "    self.dense = nn.Linear(d_model, d_model)\n",
        "\n",
        "    # Self-Attention score \uc815\uc758 (\ub9c8\uc9c0\ub9c9 \ucc28\uc6d0), softmax\n",
        "    self.softmax = nn.Softmax(dim=-1)\n",
        "\n",
        "  def forward(self, x, mask):\n",
        "    # x shape: (B, S, D)\n",
        "    # Query / Key / Value \ubca1\ud130 \uc0dd\uc131\n",
        "    q, k, v = self.wq(x), self.wk(x), self.wv(x)\n",
        "\n",
        "    # score = Q * K^T\n",
        "    # Q(B, S, D) * K^T(B, D, S) = (B, S, S)\n",
        "    # single.self-attention\n",
        "    score = torch.matmul(q, k.transpose(-1, -2)) # (B, S, D) * (B, D, S) = (B, S, S)\n",
        "\n",
        "    # scaling = Q * K^T / \ub8e8\ud2b8 \ucc28\uc6d0\uc218 , d_model\ub85c sacle\n",
        "    score = score / sqrt(self.d_model)\n",
        "\n",
        "    # Attention \uacc4\uc0b0\uc2dc \ubb34\uc758\ubbf8\ud55c \ud328\ub529\uac12\uc744 \uc81c\uc678\ud558\uae30 \uc704\ud574 \ub9c8\uc2a4\ud0b9\n",
        "    if mask is not None:\n",
        "      # padding \uc704\uce58(mask)\uc5d0 \ud574\ub2f9\ud558\ub294 score\uc5d0 -1e9\ub97c \ub354\ud574 \ubb34\uc2dc\ud558\ub3c4\ub85d \ub9cc\ub4e0\ub2e4.\n",
        "      score = score + (mask * -1e9)\n",
        "\n",
        "    # Attention \uc810\uc218\ub97c \ud655\ub960\ub85c \ubcc0\uacbd\n",
        "    score = self.softmax(score)\n",
        "\n",
        "    # Attention Score\ub97c \uac01 Value \ubca1\ud130\uc5d0 \uacf1\ud574 \uac00\uc911\ud569 (\ubb38\ub9e5\uc744 \ubc18\uc601\ud55c \ucd5c\uc885 \ubca1\ud130)\n",
        "    # Attention (Q, K, V) = softmax(QK^T / sqrt(d_model)) * V\n",
        "    # => (B, S, S) * (B, S, d_model) = (B, S, d_model)\n",
        "    result = torch.matmul(score, v)\n",
        "\n",
        "    # \ucd5c\uc885 \uc120\ud615 \ubcc0\ud658\n",
        "    # \ud2b9\uc9d5 \ubca1\ud130 (\ucd5c\uc885 \ubca1\ud130)\n",
        "    result = self.dense(result)\n",
        "\n",
        "    return result"
      ]
    },
    {
      "cell_type": "markdown",
      "metadata": {
        "id": "-S0vMp85ZRNO"
      },
      "source": [
        "\ub300\ubd80\ubd84\uc740 Transformer \ucc55\ud130\uc5d0\uc11c \ubc30\uc6b4 \uc218\uc2dd\ub4e4\uc744 \uadf8\ub300\ub85c \uad6c\ud604\ud55c \uac83\uc5d0 \ubd88\uacfc\ud569\ub2c8\ub2e4.\n",
        "\ucc28\uc774\uc810\uc740 `mask`\uc758 \uc874\uc7ac\uc5ec\ubd80\uc785\ub2c8\ub2e4.\n",
        "\uc774\uc804 \ucc55\ud130\uc5d0\uc11c \uc6b0\ub9ac\ub294 \uac00\ubcc0\uc801\uc778 text data\ub4e4\uc5d0 padding token\uc744 \ubd99\uc5ec \ud558\ub098\uc758 matrix\ub85c \ub9cc\ub4e0 \ubc29\ubc95\uc744 \ubc30\uc6e0\uc2b5\ub2c8\ub2e4.\n",
        "\uc2e4\uc81c attention \uacc4\uc0b0\uc5d0\uc11c\ub294 \uc774\ub97c \ubb34\uc2dc\ud574\uc8fc\uae30 \uc704\ud574 mask\ub97c \ub9cc\ub4e4\uc5b4 \uc81c\uacf5\ud574\uc8fc\uac8c \ub429\ub2c8\ub2e4.\n",
        "\uc5ec\uae30\uc11c mask\uc758 shape\uc740 (B, S, 1)\ub85c, \ub9cc\uc57d `mask[i, j] = True`\uc774\uba74 \uadf8 \ubcc0\uc218\ub294 padding token\uc5d0 \ud574\ub2f9\ud55c\ub2e4\ub294 \ub73b\uc785\ub2c8\ub2e4.\n",
        "\uc774\ub7ec\ud55c \uac12\ub4e4\uc744 \ubb34\uc2dc\ud574\uc8fc\ub294 \ubc29\ubc95\uc740 shape\uc774 (B, S, S)\uc778 `score`\uac00 \uc788\uc744 \ub54c(\uc218\uc5c5\uc5d0\uc11c \ubc30\uc6b4 $A$\uc640 \ub3d9\uc77c) `score[i, j]`\uc5d0 \uc544\uc8fc \uc791\uc740 \uac12\uc744 \ub354\ud574\uc8fc\uba74 \ub429\ub2c8\ub2e4. \uc544\uc8fc \uc791\uc740 \uac12\uc740 \uc608\ub97c \ub4e4\uc5b4 `-1000..00 = -1e9` \uac19\uc740 \uac83\uc774 \uc788\uc2b5\ub2c8\ub2e4.\n",
        "\uc774\ub807\uac8c \uc791\uc740 \uac12\uc744 \ub354\ud574\uc8fc\uace0 \ub098\uba74 softmax\ub97c \uac70\ucce4\uc744 \ub54c 0\uc5d0 \uac00\uae4c\uc6cc\uc9c0\uae30 \ub54c\ubb38\uc5d0 weighted sum \uacfc\uc815\uc5d0\uc11c padding token\uc5d0 \ud574\ub2f9\ud558\ub294 `v` \uac12\ub4e4\uc744 \ubb34\uc2dc\ud560 \uc218 \uc788\uac8c \ub429\ub2c8\ub2e4.\n",
        "\n",
        "\ub2e4\uc74c\uc740 self-attention\uacfc feed-forward layer\ub97c \uad6c\ud604\ud55c \ubaa8\uc2b5\uc785\ub2c8\ub2e4."
      ]
    },
    {
      "cell_type": "code",
      "execution_count": 38,
      "metadata": {
        "id": "VZHPCn9AS5Gp"
      },
      "outputs": [],
      "source": [
        "class TransformerLayer(nn.Module):\n",
        "  def __init__(self, input_dim, d_model, dff):\n",
        "    super().__init__()\n",
        "\n",
        "    # \uc785\ub825 \ubca1\ud130 \ucc28\uc6d0\n",
        "    self.input_dim = input_dim\n",
        "\n",
        "    # \ubaa8\ub378 \ub0b4\ubd80\uc5d0\uc11c \uc0ac\uc6a9\ud558\ub294 \ucc28\uc6d0 (Self-Attention \uc5f0\uc0b0 \uc2dc \uc0ac\uc6a9\ub418\ub294 \ucc28\uc6d0)\n",
        "    self.d_model = d_model\n",
        "\n",
        "    # Feed Forward \ub124\ud2b8\uc6cc\ud06c \ub0b4\ubd80\uc5d0\uc11c \uc0ac\uc6a9\ud558\ub294 \uc740\ub2c9\uce35 \ucc28\uc6d0\n",
        "    self.dff = dff\n",
        "\n",
        "    # 1) Self-Attention\n",
        "    self.sa = SelfAttention(input_dim, d_model)\n",
        "\n",
        "    # 2) Feed-Forward Network (FFN)\n",
        "    self.ffn = nn.Sequential(\n",
        "      nn.Linear(d_model, dff),\n",
        "      nn.ReLU(),\n",
        "      nn.Linear(dff, d_model)\n",
        "    )\n",
        "\n",
        "  def forward(self, x, mask):\n",
        "    # Self-Attention\n",
        "    x = self.sa(x, mask)\n",
        "    # Feed Forward\n",
        "    x = self.ffn(x)\n",
        "\n",
        "    return x"
      ]
    },
    {
      "cell_type": "markdown",
      "metadata": {
        "id": "O_xC9BQJaU4q"
      },
      "source": [
        "\ubcf4\uc2dc\ub2e4\uc2dc\ud53c self-attention\uc758 \uad6c\ud604\uc774 \uc5b4\ub835\uc9c0, Transformer layer \ud558\ub098 \uad6c\ud604\ud558\ub294 \uac83\uc740 \uc218\uc5c5 \ub54c \ub2e4\ub8ec \uadf8\ub9bc\uacfc \ud06c\uac8c \uad6c\ubd84\ub418\uc9c0 \uc54a\ub294\ub2e4\ub294 \uc810\uc744 \uc54c \uc218 \uc788\uc2b5\ub2c8\ub2e4."
      ]
    },
    {
      "cell_type": "markdown",
      "metadata": {
        "id": "J3VYrqTJagS1"
      },
      "source": [
        "## Positional encoding\n",
        "\n",
        "\uc774\ubc88\uc5d0\ub294 positional encoding\uc744 \uad6c\ud604\ud569\ub2c8\ub2e4. Positional encoding\uc758 \uc2dd\uc740 \ub2e4\uc74c\uacfc \uac19\uc2b5\ub2c8\ub2e4:\n",
        "$$\n",
        "\\begin{align*} PE_{pos, 2i} &= \\sin\\left( \\frac{pos}{10000^{2i/D}} \\right), \\\\ PE_{pos, 2i+1} &= \\cos\\left( \\frac{pos}{10000^{2i/D}} \\right).\\end{align*}\n",
        "$$\n",
        "\n",
        "\uc774\ub97c Numpy\ub85c \uad6c\ud604\ud558\uc5ec PyTorch tensor\ub85c \ubcc0\ud658\ud55c \ubaa8\uc2b5\uc740 \ub2e4\uc74c\uacfc \uac19\uc2b5\ub2c8\ub2e4:"
      ]
    },
    {
      "cell_type": "code",
      "execution_count": 39,
      "metadata": {
        "colab": {
          "base_uri": "https://localhost:8080/"
        },
        "id": "Uf_jMQWDUR79",
        "outputId": "f40cd4e7-81ec-43b8-fede-d054f8dae962"
      },
      "outputs": [
        {
          "name": "stdout",
          "output_type": "stream",
          "text": [
            "torch.Size([1, 400, 256])\n"
          ]
        }
      ],
      "source": [
        "import numpy as np\n",
        "\n",
        "\n",
        "def get_angles(pos, i, d_model):\n",
        "    # \uc218\uc2dd \ubcc0\ud658\n",
        "    angle_rates = 1 / np.power(10000, (2 * (i // 2)) / np.float32(d_model))\n",
        "    return pos * angle_rates\n",
        "\n",
        "def positional_encoding(position, d_model):\n",
        "    # \uc218\uc2dd \ubcc0\ud658\n",
        "    angle_rads = get_angles(np.arange(position)[:, None], np.arange(d_model)[None, :], d_model)\n",
        "\n",
        "    # \uc9dd\uc218\n",
        "    angle_rads[:, 0::2] = np.sin(angle_rads[:, 0::2])\n",
        "\n",
        "    # \ud640\uc218\n",
        "    angle_rads[:, 1::2] = np.cos(angle_rads[:, 1::2])\n",
        "\n",
        "    # \ucc28\uc6d0\ucd94\uac00\ud574 \ud615\ud0dc \ub9de\ucd94\uae30\n",
        "    pos_encoding = angle_rads[None, ...]\n",
        "\n",
        "    return torch.FloatTensor(pos_encoding)\n",
        "\n",
        "\n",
        "max_len = 400\n",
        "print(positional_encoding(max_len, 256).shape)"
      ]
    },
    {
      "cell_type": "markdown",
      "metadata": {
        "id": "5unoDcBva3eN"
      },
      "source": [
        "Positional encoding\uc740 `angle_rads`\ub97c \uad6c\ud604\ud558\ub294 \uacfc\uc815\uc5d0\uc11c \ubaa8\ub450 \uad6c\ud604\uc774 \ub418\uc5c8\uc2b5\ub2c8\ub2e4. \uc5ec\uae30\uc11c `angle_rads`\uc758 shape\uc740 (S, D)\uc785\ub2c8\ub2e4.\n",
        "\uc6b0\ub9ac\ub294 \uc77c\ubc18\uc801\uc73c\ub85c batch\ub85c \uc8fc\uc5b4\uc9c0\ub294 shape\uc774 (B, S, D)\uc778 tensor\ub97c \ub2e4\ub8e8\uae30 \ub54c\ubb38\uc5d0 \ub9c8\uc9c0\ub9c9\uc5d0 None\uc744 \ud65c\uc6a9\ud558\uc5ec shape\uc744 (1, S, D)\ub85c \ubc14\uafd4\uc8fc\uac8c\ub429\ub2c8\ub2e4.\n",
        "\n",
        "\uc704\uc5d0\uc11c \uad6c\ud604\ud55c `TransformerLayer`\uc640 positional encoding\uc744 \ubaa8\ub450 \ud569\uce5c \ubaa8\uc2b5\uc740 \ub2e4\uc74c\uacfc \uac19\uc2b5\ub2c8\ub2e4:"
      ]
    },
    {
      "cell_type": "code",
      "execution_count": 40,
      "metadata": {
        "id": "8MaiCGh8TsDH"
      },
      "outputs": [],
      "source": [
        "class TextClassifier(nn.Module):\n",
        "  def __init__(self, vocab_size, d_model, n_layers, dff):\n",
        "    super().__init__()\n",
        "\n",
        "    self.vocab_size = vocab_size\n",
        "    self.d_model = d_model\n",
        "    self.n_layers = n_layers\n",
        "    self.dff = dff\n",
        "\n",
        "    # (1) \uc784\ubca0\ub529 \ub808\uc774\uc5b4\n",
        "    self.embedding = nn.Embedding(vocab_size, d_model)\n",
        "    # (2) Positional Encoding\n",
        "    self.pos_encoding = nn.parameter.Parameter(positional_encoding(max_len, d_model), requires_grad=False)\n",
        "    # (3) Transformer Layers\n",
        "    self.layers = nn.ModuleList([TransformerLayer(d_model, d_model, dff) for _ in range(n_layers)])\n",
        "    \n",
        "    # (4) \ubd84\ub958\uc6a9 \ucd5c\uc885 Linear \n",
        "    # self.classification = nn.Linear(d_model, 1)\n",
        "    \n",
        "    #  TODO: \ubcc0\ud654 \ud558\ub294 \uc810 \n",
        "    # \ucd9c\ub825 \ubca1\ud130 \ucc28\uc6d0\uc744 \ud1a0\ud070 \uc218\ub85c \ubcc0\uacbd\n",
        "    self.classification = nn.Linear(d_model, len(tokenizer))\n",
        "\n",
        "  def forward(self, x):\n",
        "    # x shape: (B S)\n",
        "\n",
        "    # 1) Mask \uc900\ube44 => (B, S) -> (B, 1, S)\n",
        "    mask = (x == tokenizer.pad_token_id)\n",
        "    mask = mask[:, None, :] # broadcasting\uc744 \uc704\ud574 \ucc28\uc6d0 \ucd94\uac00\n",
        "\n",
        "    # 2) Embedding & Positional Encoding\n",
        "    seq_len = x.shape[1]\n",
        "    x = self.embedding(x) # (B, S, d_model)\n",
        "    x = x * sqrt(self.d_model) # \uc2a4\ucf00\uc77c\ub9c1\n",
        "    x = x + self.pos_encoding[:, :seq_len]\n",
        "\n",
        "    # 3) Stacked Transformer Layers\n",
        "    for layer in self.layers:\n",
        "      x = layer(x, mask)\n",
        "\n",
        "    # 4) \ucd5c\uc885\uc73c\ub85c [CLS] \uc704\uce58(\uc5ec\uae30\uc120 x[:, 0])\ub9cc \uaebc\ub0b4\uc11c Linear \ud1b5\uacfc\n",
        "    x = x[:, 0] # (B, d_model)\n",
        "    x = self.classification(x) # (B, 1)\n",
        "\n",
        "    return x\n",
        "\n",
        "# \ubaa8\ub378 \uc778\uc2a4\ud134\uc2a4 \ub9cc\ub4e4\uae30\n",
        "model = TextClassifier(len(tokenizer), 32, 2, 32)"
      ]
    },
    {
      "cell_type": "markdown",
      "metadata": {
        "id": "XXpjPWHjbUK8"
      },
      "source": [
        "\uae30\uc874\uacfc \ub2e4\ub978 \uc810\ub4e4\uc740 \ub2e4\uc74c\uacfc \uac19\uc2b5\ub2c8\ub2e4:\n",
        "1. `nn.ModuleList`\ub97c \uc0ac\uc6a9\ud558\uc5ec \uc5ec\ub7ec layer\uc758 \uad6c\ud604\uc744 \uc27d\uac8c \ud558\uc600\uc2b5\ub2c8\ub2e4.\n",
        "2. Embedding, positional encoding, transformer layer\ub97c \uac70\uce58\uace0 \ub09c \ud6c4 \ub9c8\uc9c0\ub9c9 label\uc744 \uc608\uce21\ud558\uae30 \uc704\ud574 \uc0ac\uc6a9\ud55c \uac12\uc740 `x[:, 0]`\uc785\ub2c8\ub2e4. \uae30\uc874\uc758 RNN\uc5d0\uc11c\ub294 padding token\uc744 \uc81c\uc678\ud55c \ub9c8\uc9c0\ub9c9 token\uc5d0 \ud574\ub2f9\ud558\ub294 representation\uc744 \uc0ac\uc6a9\ud55c \uac83\uacfc \ub2e4\ub985\ub2c8\ub2e4. \uc774\ub807\uac8c \uc0ac\uc6a9\ud560 \uc218 \uc788\ub294 \uc774\uc720\ub294 attention \uacfc\uc815\uc744 \ubcf4\uc2dc\uba74 \uccab \ubc88\uc9f8 token\uc5d0 \ub300\ud55c representation\uc740 \uc774\ud6c4\uc758 \ubaa8\ub4e0 token\uc758 \uc601\ud5a5\uc744 \ubc1b\uc2b5\ub2c8\ub2e4. \uc989, \uccab \ubc88\uc9f8 token \ub610\ud55c \uc804\uccb4 \ubb38\uc7a5\uc744 \ub300\ubcc0\ud558\ub294 \uc758\ubbf8\ub97c \uac00\uc9c0\uace0 \uc788\ub2e4\uace0 \ud560 \uc218 \uc788\uc2b5\ub2c8\ub2e4. \uadf8\ub798\uc11c \uc77c\ubc18\uc801\uc73c\ub85c Transformer\ub97c text \ubd84\ub958\uc5d0 \uc0ac\uc6a9\ud560 \ub54c\ub294 \uc774\uc640 \uac19\uc740 \ubc29\uc2dd\uc73c\ub85c \uad6c\ud604\ub429\ub2c8\ub2e4."
      ]
    },
    {
      "cell_type": "markdown",
      "metadata": {
        "id": "QDq05OlAb2lB"
      },
      "source": [
        "## \ud559\uc2b5 (GPU \ub3c4 \uc870\uc808)\n",
        "\n",
        "# GPU \ud65c\uc6a9\ud574\ubcf4\uae30\n",
        "batch_size, learning rate \uc870\uc808\ud574\ubcf4\uae30"
      ]
    },
    {
      "cell_type": "code",
      "execution_count": 93,
      "metadata": {},
      "outputs": [
        {
          "name": "stdout",
          "output_type": "stream",
          "text": [
            "\ubc30\uce58 \ud06c\uae30: 64, \ud559\uc2b5\ub960: 0.001000\n",
            "\ubc30\uce58 \ud06c\uae30: 128, \ud559\uc2b5\ub960: 0.001414\n",
            "\ubc30\uce58 \ud06c\uae30: 256, \ud559\uc2b5\ub960: 0.002000\n",
            "\ubc30\uce58 \ud06c\uae30: 512, \ud559\uc2b5\ub960: 0.002828\n",
            "\ubc30\uce58 \ud06c\uae30: 1024, \ud559\uc2b5\ub960: 0.004000\n",
            "\ubc30\uce58 \ud06c\uae30: 2048, \ud559\uc2b5\ub960: 0.005657\n",
            "\ubc30\uce58 \ud06c\uae30: 4096, \ud559\uc2b5\ub960: 0.008000\n",
            "\ubc30\uce58 \ud06c\uae30: 8192, \ud559\uc2b5\ub960: 0.011314\n",
            "\n",
            "\uc120\ud0dd\ub41c \uc124\uc815: \ubc30\uce58 \ud06c\uae30 = 8192, \ud559\uc2b5\ub960 = 0.011314\n"
          ]
        }
      ],
      "source": [
        "import math\n",
        "\n",
        "# \ubc30\uce58 \ud06c\uae30 \uc635\uc158\n",
        "batch_sizes = [64, 128, 256, 512, 1024, 2048, 4096, 8192]\n",
        "\n",
        "# \uae30\uc900 \ud559\uc2b5\ub960 (\uae30\ubcf8\uac12: \ubc30\uce58 \ud06c\uae30 64\uc77c \ub54c 0.001)\n",
        "base_batch_size = 64\n",
        "base_lr = 0.001\n",
        "\n",
        "# \uac01 \ubc30\uce58 \ud06c\uae30\uc5d0 \ub9de\ub294 \ud559\uc2b5\ub960 \uacc4\uc0b0 (\uc81c\uacf1\uadfc \uc2a4\ucf00\uc77c\ub9c1 \uc801\uc6a9)\n",
        "scaled_lrs = [base_lr * math.sqrt(bs / base_batch_size) for bs in batch_sizes]\n",
        "\n",
        "# \uacc4\uc0b0\ub41c \ud559\uc2b5\ub960 \ucd9c\ub825\n",
        "for bs, lr in zip(batch_sizes, scaled_lrs):\n",
        "    print(f\"\ubc30\uce58 \ud06c\uae30: {bs}, \ud559\uc2b5\ub960: {lr:.6f}\")\n",
        "\n",
        "# \uc6d0\ud558\ub294 \ubc30\uce58 \ud06c\uae30 \uc120\ud0dd (\uc608: \uc778\ub371\uc2a4 3\uc740 512, \ucd5c\ub300 7)\n",
        "batch_idx = 7  # \uc774 \uac12\uc744 0-7 \uc0ac\uc774\uc5d0\uc11c \ubcc0\uacbd\ud558\uc5ec \uc6d0\ud558\ub294 \ubc30\uce58 \ud06c\uae30 \uc120\ud0dd\n",
        "batch_size = batch_sizes[batch_idx]\n",
        "lr = scaled_lrs[batch_idx]\n",
        "\n",
        "print(f\"\\n\uc120\ud0dd\ub41c \uc124\uc815: \ubc30\uce58 \ud06c\uae30 = {batch_size}, \ud559\uc2b5\ub960 = {lr:.6f}\")\n",
        "\n",
        "# DataLoader \uc124\uc815\n",
        "train_loader = DataLoader(\n",
        "    train_ds, batch_size=batch_size, shuffle=True, collate_fn=collate_fn\n",
        ")\n",
        "test_loader = DataLoader(\n",
        "    test_ds, batch_size=batch_size, shuffle=False, collate_fn=collate_fn\n",
        ")"
      ]
    },
    {
      "cell_type": "code",
      "execution_count": 94,
      "metadata": {
        "id": "YHVVsWBPQmnv"
      },
      "outputs": [],
      "source": [
        "from torch.optim import Adam\n",
        "\n",
        "# lr = 0.001\n",
        "model = model.to('cuda')\n",
        "\n",
        "# TODO: BCEWithLogitsLoss -> CrossEntropyLoss (\ub85c\uc2a4 \uc218\uc815)\n",
        "# loss_fn = nn.BCEWithLogitsLoss()\n",
        "loss_fn = nn.CrossEntropyLoss()\n",
        "\n",
        "optimizer = Adam(model.parameters(), lr=lr)"
      ]
    },
    {
      "cell_type": "code",
      "execution_count": 91,
      "metadata": {
        "id": "r88BALxO1zc1"
      },
      "outputs": [],
      "source": [
        "import numpy as np\n",
        "import matplotlib.pyplot as plt\n",
        "\n",
        "\n",
        "def accuracy(model, dataloader):\n",
        "  cnt = 0\n",
        "  acc = 0\n",
        "\n",
        "  for data in dataloader:\n",
        "    inputs, labels = data\n",
        "    inputs, labels = inputs.to('cuda'), labels.to('cuda')\n",
        "\n",
        "    preds = model(inputs)\n",
        "    preds = torch.argmax(preds, dim=-1)\n",
        "    # preds = (preds > 0).long()[..., 0]\n",
        "\n",
        "    cnt += labels.shape[0]\n",
        "    acc += (labels == preds).sum().item()\n",
        "\n",
        "  return acc / cnt"
      ]
    },
    {
      "cell_type": "code",
      "execution_count": 95,
      "metadata": {
        "colab": {
          "base_uri": "https://localhost:8080/",
          "height": 775
        },
        "id": "al_b56TYRILq",
        "outputId": "ecc7b1fa-5648-4277-da25-8fc436144ff0"
      },
      "outputs": [
        {
          "name": "stdout",
          "output_type": "stream",
          "text": [
            "Epoch   0 | Train Loss: 5.2526350021362305\n",
            "=========> Train acc: 0.027 | Test acc: 0.022\n",
            "Epoch   1 | Train Loss: 17.1085262298584\n",
            "=========> Train acc: 0.042 | Test acc: 0.025\n",
            "Epoch   2 | Train Loss: 6.172792911529541\n",
            "=========> Train acc: 0.032 | Test acc: 0.030\n",
            "Epoch   3 | Train Loss: 5.6997294425964355\n",
            "=========> Train acc: 0.038 | Test acc: 0.032\n",
            "Epoch   4 | Train Loss: 6.14388370513916\n",
            "=========> Train acc: 0.039 | Test acc: 0.029\n",
            "Epoch   5 | Train Loss: 6.132374286651611\n",
            "=========> Train acc: 0.038 | Test acc: 0.030\n",
            "Epoch   6 | Train Loss: 5.92250394821167\n",
            "=========> Train acc: 0.030 | Test acc: 0.028\n",
            "Epoch   7 | Train Loss: 5.808666706085205\n",
            "=========> Train acc: 0.030 | Test acc: 0.028\n",
            "Epoch   8 | Train Loss: 5.820444107055664\n",
            "=========> Train acc: 0.038 | Test acc: 0.030\n",
            "Epoch   9 | Train Loss: 5.86471700668335\n",
            "=========> Train acc: 0.030 | Test acc: 0.028\n",
            "Epoch  10 | Train Loss: 5.721022605895996\n",
            "=========> Train acc: 0.039 | Test acc: 0.028\n",
            "Epoch  11 | Train Loss: 5.656825542449951\n",
            "=========> Train acc: 0.039 | Test acc: 0.031\n",
            "Epoch  12 | Train Loss: 5.653282642364502\n",
            "=========> Train acc: 0.044 | Test acc: 0.033\n",
            "Epoch  13 | Train Loss: 5.649039268493652\n",
            "=========> Train acc: 0.044 | Test acc: 0.031\n",
            "Epoch  14 | Train Loss: 5.623955249786377\n",
            "=========> Train acc: 0.046 | Test acc: 0.031\n",
            "Epoch  15 | Train Loss: 5.575004577636719\n",
            "=========> Train acc: 0.051 | Test acc: 0.029\n",
            "Epoch  16 | Train Loss: 5.519746780395508\n",
            "=========> Train acc: 0.048 | Test acc: 0.030\n",
            "Epoch  17 | Train Loss: 5.503272533416748\n",
            "=========> Train acc: 0.047 | Test acc: 0.030\n",
            "Epoch  18 | Train Loss: 5.480197429656982\n",
            "=========> Train acc: 0.047 | Test acc: 0.031\n",
            "Epoch  19 | Train Loss: 5.42612361907959\n",
            "=========> Train acc: 0.044 | Test acc: 0.018\n",
            "Epoch  20 | Train Loss: 5.380341529846191\n",
            "=========> Train acc: 0.048 | Test acc: 0.018\n",
            "Epoch  21 | Train Loss: 5.343043804168701\n",
            "=========> Train acc: 0.051 | Test acc: 0.018\n",
            "Epoch  22 | Train Loss: 5.324373245239258\n",
            "=========> Train acc: 0.051 | Test acc: 0.018\n",
            "Epoch  23 | Train Loss: 5.293784141540527\n",
            "=========> Train acc: 0.051 | Test acc: 0.022\n",
            "Epoch  24 | Train Loss: 5.2561211585998535\n",
            "=========> Train acc: 0.050 | Test acc: 0.024\n",
            "Epoch  25 | Train Loss: 5.231790542602539\n",
            "=========> Train acc: 0.054 | Test acc: 0.023\n",
            "Epoch  26 | Train Loss: 5.239922046661377\n",
            "=========> Train acc: 0.061 | Test acc: 0.020\n",
            "Epoch  27 | Train Loss: 5.224268913269043\n",
            "=========> Train acc: 0.057 | Test acc: 0.019\n",
            "Epoch  28 | Train Loss: 5.162003517150879\n",
            "=========> Train acc: 0.054 | Test acc: 0.018\n",
            "Epoch  29 | Train Loss: 5.125621318817139\n",
            "=========> Train acc: 0.054 | Test acc: 0.018\n",
            "Epoch  30 | Train Loss: 5.092902183532715\n",
            "=========> Train acc: 0.061 | Test acc: 0.029\n",
            "Epoch  31 | Train Loss: 5.075289726257324\n",
            "=========> Train acc: 0.062 | Test acc: 0.032\n",
            "Epoch  32 | Train Loss: 5.050807476043701\n",
            "=========> Train acc: 0.063 | Test acc: 0.030\n",
            "Epoch  33 | Train Loss: 5.020284175872803\n",
            "=========> Train acc: 0.060 | Test acc: 0.034\n",
            "Epoch  34 | Train Loss: 5.010154724121094\n",
            "=========> Train acc: 0.064 | Test acc: 0.032\n",
            "Epoch  35 | Train Loss: 4.960496425628662\n",
            "=========> Train acc: 0.060 | Test acc: 0.030\n",
            "Epoch  36 | Train Loss: 4.92828893661499\n",
            "=========> Train acc: 0.070 | Test acc: 0.029\n",
            "Epoch  37 | Train Loss: 4.941723346710205\n",
            "=========> Train acc: 0.062 | Test acc: 0.032\n",
            "Epoch  38 | Train Loss: 5.055099964141846\n",
            "=========> Train acc: 0.055 | Test acc: 0.016\n",
            "Epoch  39 | Train Loss: 5.026996612548828\n",
            "=========> Train acc: 0.065 | Test acc: 0.018\n",
            "Epoch  40 | Train Loss: 4.8947434425354\n",
            "=========> Train acc: 0.061 | Test acc: 0.018\n",
            "Epoch  41 | Train Loss: 4.907764434814453\n",
            "=========> Train acc: 0.062 | Test acc: 0.017\n",
            "Epoch  42 | Train Loss: 4.940311908721924\n",
            "=========> Train acc: 0.078 | Test acc: 0.030\n",
            "Epoch  43 | Train Loss: 4.899739742279053\n",
            "=========> Train acc: 0.080 | Test acc: 0.034\n",
            "Epoch  44 | Train Loss: 4.863080978393555\n",
            "=========> Train acc: 0.073 | Test acc: 0.033\n",
            "Epoch  45 | Train Loss: 4.825298309326172\n",
            "=========> Train acc: 0.078 | Test acc: 0.034\n",
            "Epoch  46 | Train Loss: 4.810920238494873\n",
            "=========> Train acc: 0.079 | Test acc: 0.023\n",
            "Epoch  47 | Train Loss: 4.782191753387451\n",
            "=========> Train acc: 0.084 | Test acc: 0.027\n",
            "Epoch  48 | Train Loss: 4.780468940734863\n",
            "=========> Train acc: 0.079 | Test acc: 0.030\n",
            "Epoch  49 | Train Loss: 4.785042762756348\n",
            "=========> Train acc: 0.083 | Test acc: 0.030\n"
          ]
        }
      ],
      "source": [
        "n_epochs = 50\n",
        "train_accs = []\n",
        "test_accs = []\n",
        "\n",
        "for epoch in range(n_epochs):\n",
        "  total_loss = 0.\n",
        "  model.train()\n",
        "  for data in train_loader:\n",
        "    model.zero_grad()\n",
        "    inputs, labels = data\n",
        "    # inputs, labels = inputs.to('cuda'), labels.to('cuda').float()\n",
        "    inputs, labels = inputs.to('cuda'), labels.to('cuda')\n",
        "\n",
        "    # preds = model(inputs)[..., 0]\n",
        "    preds = model(inputs)\n",
        "    loss = loss_fn(preds, labels)\n",
        "    loss.backward()\n",
        "    optimizer.step()\n",
        "\n",
        "    total_loss += loss.item()\n",
        "\n",
        "  print(f\"Epoch {epoch:3d} | Train Loss: {total_loss}\")\n",
        "\n",
        "  with torch.no_grad():\n",
        "    model.eval()\n",
        "    train_acc = accuracy(model, train_loader)\n",
        "    test_acc = accuracy(model, test_loader)\n",
        "    train_accs.append(train_acc)\n",
        "    test_accs.append(test_acc)\n",
        "    print(f\"=========> Train acc: {train_acc:.3f} | Test acc: {test_acc:.3f}\")"
      ]
    },
    {
      "cell_type": "code",
      "execution_count": 96,
      "metadata": {
        "id": "u-I121osywgW"
      },
      "outputs": [],
      "source": [
        "import numpy as np\n",
        "import matplotlib.pyplot as plt\n",
        "\n",
        "def plot_acc(train_accs, test_accs, label1='train', label2='test'):\n",
        "    x = np.arange(len(train_accs))\n",
        "    plt.plot(x, train_accs, label=label1)\n",
        "    plt.plot(x, test_accs, label=label2)\n",
        "    plt.xlabel('Epoch')\n",
        "    plt.ylabel('Accuracy')\n",
        "    plt.title('Train vs Test Accuracy')\n",
        "    plt.legend()\n",
        "    plt.grid(True)\n",
        "    plt.show()"
      ]
    },
    {
      "cell_type": "code",
      "execution_count": 97,
      "metadata": {},
      "outputs": [
        {
          "data": {
            "image/png": "[encoded data removed]",
            "text/plain": [
              "<Figure size 640x480 with 1 Axes>"
            ]
          },
          "metadata": {},
          "output_type": "display_data"
        }
      ],
      "source": [
        "plot_acc(train_accs, test_accs)"
      ]
    }
  ],
  "metadata": {
    "accelerator": "GPU",
    "colab": {
      "gpuType": "T4",
      "provenance": []
    },
    "kernelspec": {
      "display_name": "test-mlp",
      "language": "python",
      "name": "python3"
    },
    "language_info": {
      "codemirror_mode": {
        "name": "ipython",
        "version": 3
      },
      "file_extension": ".py",
      "mimetype": "text/x-python",
      "name": "python",
      "nbconvert_exporter": "python",
      "pygments_lexer": "ipython3",
      "version": "3.13.2"
    }
  },
  "nbformat": 4,
  "nbformat_minor": 0
}