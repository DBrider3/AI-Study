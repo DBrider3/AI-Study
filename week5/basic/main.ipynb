{
  "cells": [
    {
      "cell_type": "markdown",
      "metadata": {},
      "source": [
        "# [5주차] 기본 과제\n",
        "\n",
        "외부 블로그의 정보와 함께 챗봇 구현 하기\n",
        "\n",
        "## 목표\n",
        "LangChain으로 개발한 RAG를 다음 블로그의 정보와 연동.\n",
        "\n",
        "요구사항\n",
        "- RAG internet source https://spartacodingclub.kr/blog/all-in-challenge_winner 로 설정하고 적절하게 대답 할 수 있도록 만들기"
      ]
    },
    {
      "cell_type": "code",
      "execution_count": 1,
      "metadata": {
        "colab": {
          "base_uri": "https://localhost:8080/"
        },
        "id": "TwaANvAGIwl4",
        "outputId": "02c156df-655d-4a3f-cf69-8c4fd3edebd4"
      },
      "outputs": [],
      "source": [
        "!pip install -qU langchain langchain-community langchain-chroma langchain-openai bs4 python-dotenv"
      ]
    },
    {
      "cell_type": "code",
      "execution_count": 3,
      "metadata": {
        "colab": {
          "base_uri": "https://localhost:8080/"
        },
        "id": "lrlcWNMyI0HQ",
        "outputId": "4f5ba242-e76f-4246-a3f3-7c0d6dc7f7cb"
      },
      "outputs": [
        {
          "name": "stdout",
          "output_type": "stream",
          "text": [
            "test\n"
          ]
        }
      ],
      "source": [
        "import os\n",
        "import bs4\n",
        "from langchain import hub\n",
        "from langchain_chroma import Chroma\n",
        "from langchain_openai import ChatOpenAI\n",
        "from langchain_openai import OpenAIEmbeddings\n",
        "from langchain_community.document_loaders import WebBaseLoader\n",
        "from langchain_text_splitters import RecursiveCharacterTextSplitter\n",
        "from dotenv import load_dotenv\n",
        "\n",
        "load_dotenv()\n",
        "\n",
        "print(os.getenv(\"ENVTEST\"))"
      ]
    },
    {
      "cell_type": "markdown",
      "metadata": {},
      "source": [
        "실습 코드는 웹 페이지에서 css class post-header (글의 제목, 정보), post-title (제목), post-content (글 내용) 이렇게 파싱해서 WebBaseLoader를 사용했다.\n",
        "\n",
        "과제에서도 비슷하게 \n",
        "- 제목 파트 (제목과 글의 정보들)\n",
        "- 본문 파트 (글 내용)\n",
        "\n",
        "이렇게 하면 될거 같아서 class 를 직접 파헤쳐 보았다.\n",
        "\n",
        "카테고리: css-51sl9e\n",
        "제목: css-j3idia\n",
        "정보: css-140vytu\n",
        "\n",
        "본문: editedContent"
      ]
    },
    {
      "cell_type": "code",
      "execution_count": 10,
      "metadata": {
        "id": "qhuzvEYGI4Yq"
      },
      "outputs": [],
      "source": [
        "loader = WebBaseLoader(\n",
        "    web_paths=(\"https://spartacodingclub.kr/blog/all-in-challenge_winner\",),\n",
        "    bs_kwargs=dict(\n",
        "        parse_only=bs4.SoupStrainer(\n",
        "            class_=(\"css-51sl9e\", \"css-j3idia\", \"css-140vytu\", \"editedContent\")\n",
        "        )\n",
        "    ),\n",
        ")\n",
        "docs = loader.load()"
      ]
    },
    {
      "cell_type": "code",
      "execution_count": 11,
      "metadata": {
        "id": "ewqNBMS_I7zB"
      },
      "outputs": [],
      "source": [
        "text_splitter = RecursiveCharacterTextSplitter(\n",
        "    chunk_size=1000,\n",
        "    chunk_overlap=200\n",
        ")\n",
        "splits = text_splitter.split_documents(docs)\n",
        "vectorstore = Chroma.from_documents(\n",
        "    documents=splits,\n",
        "    embedding=OpenAIEmbeddings()\n",
        ")"
      ]
    },
    {
      "cell_type": "code",
      "execution_count": 12,
      "metadata": {
        "colab": {
          "base_uri": "https://localhost:8080/"
        },
        "id": "dKwUiRrPJMq1",
        "outputId": "2ba93b50-3965-4865-c232-3c4ad39fad7b"
      },
      "outputs": [
        {
          "name": "stdout",
          "output_type": "stream",
          "text": [
            "messages=[HumanMessage(content=\"You are an assistant for question-answering tasks. Use the following pieces of retrieved context to answer the question. If you don't know the answer, just say that you don't know. Use three sentences maximum and keep the answer concise.\\nQuestion: ALL-in 코딩 공모전 수상작들을 요약해줘 \\nContext: 스파르타 소식'AII-in 코딩 공모전’ 수상작을 소개합니다조회수  819·6분 분량2024. 9. 3.코딩은 더 이상 개발자만의 영역이 아닙니다. 누구나 아이디어만 있다면 창의적인 서비스를 만들어 세상을 바꿀 수 있습니다. 스파르타코딩클럽에서는 이러한 가능성을 믿고, 누구나 코딩을 통해 자신의 아이디어를 실현하고 실제 문제를 해결하는 경험을 쌓을 수 있도록 다양한 프로그램을 마련하고 있습니다.<All-in> 코딩 공모전은 대학생들이 캠퍼스에서 겪은 불편함과 문제를 자신만의 아이디어로 해결해보는 대회였는데요. 이번 공모전에서 다양한 혁신적인 아이디어와 열정으로 가득한 수많은 프로젝트가 탄생했습니다. 그중 뛰어난 성과를 낸 수상작 6개를 소개합니다.🏆\\xa0대상[Lexi Note] 언어공부 필기 웹 서비스서비스 제작자: 다나와(김다애, 박나경)💡W는 어문학을 전공하는 대학생입니다. 매일 새로운 단어와 문장 구조를 공부하고 있지만, 효율적으로 학습하는 것이 쉽지 않았습니다. 단어의 의미를 찾기 위해 사전을 뒤적이고, 긴 문장을 이해하려고 번역기를 사용하다 보면, 필기 노트는 어느새 뒷전으로 밀려났거든요. 사전, 번역기, 원서, 필기노트를 왔다 갔다 하다 보면 시간이 다 지나가 버리곤 했죠.W와 같이 어문 전공생은 문법, 어휘, 문장 구조 등 다양한 자료를 학습해야 합니다. 여러 자료를 번갈아 학습하다보니 ‘사전-번역기-원서-필기노트’ 왕복으로 학습 효율이 나지 않아 고민인 경우도 많으실 거예요. <Lexi Note>는 단어를 드래그하면 네이버 사전으로 바로 연동 돼 단어의 의미를 찾으며 동시에 필기 할 수 있어요. 이외에도 번역 버튼을 누르면 파파고 번역기가 연동돼 긴 문장도 쉽게 이해할 수 있어요. 언어 학습에 필요한 할일 목록과 스케줄 템플릿을 제공하여 효율적으로 공부할 수 있습니다. 필기, 사전, 번역을 한번에 쉽고 편하게 이용할 수 있죠. 더 이상 시간 낭비 없이 효율적으로 어문학을 공부하며 학습 속도도 눈에 띄게 빨라질 수 있어요. 언어 공부의 복잡함을\\n\\n통해 캠퍼스 내에 보다 다양한 문화가 공존하고, 학생들 간의 유대감이 강화되고, 서로 다른 배경을 가진 학생들이 함께 성장할 수 있는 환경이 조성됩니다. 글로벌 사회에서 중요한 소통 능력을 기를 수 있는 문화의 장으로 쓰일 수 있겠죠!사용한 기술 스택-FE(프론트엔드): Spring Boot, MySQL, Spring WebSocket-BE(백엔드): React Native, TanStack Query, Axios코딩 공모전 수상작은 대학생들의 팀프로젝트를 통해 만들어진 웹/앱 서비스입니다. 캠퍼스에서의 문제를 해결하자는 참가자들의 아이디어에서 시작되었죠. 누구나 세상에 선보이고 싶은 나만의 아이디어와 기초 코딩 기술만 활용한다면, 얼마든지 서비스를 만들 수 있습니다. 스파르타코딩클럽의 내일배움캠프에서는 비전공, 초보자도 웹/앱 개발자로 거듭날 수 있는 다양한 트랙이 준비돼 있습니다. 나만의 아이디어를 세상에 선보이고 싶은 누구나에게 열려 있으니 주저말고 도전해 보세요.💡<All-in> 코딩 공모전에서 만든 다양한 서비스를 만나보고 싶다면?다양한 서비스와 기발한 아이디어가 모인 곳에 초대합니다. 참가자들의 문제 해결방법이 궁금하시다면 지금 바로 ‘All-in 공모전’에서 만나보세요!👉🏻\\xa0공모전 결과물 보러가기누구나 큰일 낼 수 있어스파르타코딩클럽글 | 신수지 팀스파르타 에디터\\n\\n자신의 의견이나 질문을 쉽게 제출할 수 있어 교수님은 실시간으로 학생들의 이해도를 파악할 수 있습니다. 수업 중 또는 후에 교수자가 수업에 대한 피드백을 받을 수 있는 평가 기능과 학생의 이해도를 테스트 할 수 있는 퀴즈 생성 기능이 있어 필요한 경우 수업 속도를 조절하고 추가 설명을 할 수 있어요.사용한 기술 스택 -FE(프론트엔드): Flutter, Socket.IO, Expo CLI, Axios, TanStack Query-BE(백엔드): Spring Boot, Spring Security, JWT, MySQL, Spring WebSocket, AWS🏅\\xa0입선[Crewing] 연합동아리 정보 플랫폼서비스 제작자: 동학대학운동(김민아, 임경진, 신은혜, 고수)💡신입생인 S는 대학 생활을 알차게 보내고 싶어서 연합 동아리에 가입하려고 했지만 어떤 동아리가 자신에게 맞을지 고민이 많았습니다. 인터넷에 검색해보니 연합 동아리 후기는 대부분 여기저기 흩어져 있고, 신뢰할 만한 정보를 찾기 어려웠습니다.<Crewing>은 대학생들이 다양한 연합 동아리에 쉽게 가입하고, 적절한 동아리를 찾을 수 있도록 지원해주는 아카이빙 플랫폼입니다. 회원가입 시 생년, 성별, 관심 분야를 입력하자 딱 맞는 동아리를 추천해주죠. 플랫폼 내에서 동아리의 리크루팅 과정인 서류 전형, 인터뷰 일정, 최종 결과 발표 등을 한 번에 해결할 수 있어요. 실제 동아리에 가입한 사람들의 솔직한 후기를 제공해주기 때문에 보다 정확한 정보를 얻을 수 있어요. Crewing은 신뢰할 수 있는 정보와 솔직한 후기를 제공해주기 때문에 효율적으로 내게 꼭 맞는 동아리를 선택할 수 있습니다.사용한 기술 스택 -FE(프론트엔드): Spring Boot, Redis, MySQL-BE(백엔드): SwiftUI Framework, OAuth 2.0🏅\\xa0입선[학교생활 매니저] 학교생활 관리 서비스서비스 제작자: 아이칼F4(조민제, 이민기, 강건, 박근우)💡A는 올해 복학한 3학년 학생입니다. 강의실과 도서관을 오가며\\n\\n추가 수입을 얻을 수 있는 기회를 가집니다. 실시간 알림 기능을 통해 매칭이 이뤄지면 즉시 알림을 받을 수 있어 빠르게 문제를 해결할 수 있습니다. 벌레를 퇴치한 후 사용자는 서로를 평가할 수 있어요. 더 나은 서비스를 제공하거나 받을 수 있습니다.사용한 기술 스택 -FE(프론트엔드): React Native, Expo, Axios-BE(백엔드): Spring Boot, Spring Security, MySQL, SSE, FCM, JWT, Postman🎖️\\xa0우수상[에코 클래스룸] 수업 실시간 소통 서비스서비스 제작자: This is 스파게티!!!(박지성, 김서원, 박범수)💡K교수는 항상 수업이 끝난 후 난이도가 적절했는지 궁금했습니다. “질문 있나요?”라는 말이 수업의 마무리였지만, 대부분의 학생은 답이 없었죠. 그저 고개를 끄덕이는 몇몇 학생들만 보일 뿐, 정말 이해한 것인지, 질문할 용기가 없는 것인지 알 수 없었습니다. 이때문에 학생들이 수업 내용을 제대로 이해하고 있는지 확인하기 어려웠습니다. 어느 날 강의가 끝나고 몇몇 학생들이 몰려와 어렵다고, 다시 설명해 달라고 요청했습니다. 그제야 K교수는 알게 되었어요. 학생들이 이해하지 못하고 있었지만, 질문을 하지 않았던 것이었습니다.다른 학생들의 시선이 부담스러워서, 나만 모르는 거라고 생각해서 질문하지 않는 학생들을 위해 만들어진 서비스가 바로 <에코 클래스룸>입니다. 교수와 학생 간의 소통을 혁신적으로 바꾸기 위해 만들어졌어요. 학생들이 굳이 손을 들고 질문하지 않아도, 에코 클래스룸을 통해 자신의 의견을 표현할 수 있습니다. 익명으로 수업 중 자신의 의견이나 질문을 쉽게 제출할 수 있어 교수님은 실시간으로 학생들의 이해도를 파악할 수 있습니다. 수업 중 또는 후에 교수자가 수업에 대한 피드백을 받을 수 있는 평가 기능과 학생의 이해도를 테스트 할 수 있는 퀴즈 생성 기능이 있어 필요한 경우 수업 속도를 조절하고 추가 설명을 할 수 있어요.사용한 기술 스택 -FE(프론트엔드): Flutter, \\nAnswer:\", additional_kwargs={}, response_metadata={})]\n"
          ]
        }
      ],
      "source": [
        "retriever = vectorstore.as_retriever()\n",
        "\n",
        "user_msg = \"ALL-in 코딩 공모전 수상작들을 요약해줘\"\n",
        "retrieved_docs = retriever.invoke(user_msg)\n",
        "\n",
        "def format_docs(docs):\n",
        "    return \"\\n\\n\".join(doc.page_content for doc in docs)\n",
        "prompt = hub.pull(\"rlm/rag-prompt\")\n",
        "\n",
        "user_prompt = prompt.invoke({\"context\": format_docs(retrieved_docs), \"question\": user_msg})\n",
        "print(user_prompt)"
      ]
    },
    {
      "cell_type": "markdown",
      "metadata": {},
      "source": [
        "# 모델별 비교해 보기 (Pricing 기준)\n",
        "\n",
        "모델명 (input 비용/ output 비용) Price per 1M tokens"
      ]
    },
    {
      "cell_type": "markdown",
      "metadata": {},
      "source": [
        "## gpt-4o-mini ($0.15 / $0.60)"
      ]
    },
    {
      "cell_type": "code",
      "execution_count": 14,
      "metadata": {
        "colab": {
          "base_uri": "https://localhost:8080/"
        },
        "id": "bqHKsIyUJc_m",
        "outputId": "1a3a5c10-0855-4fd4-850e-77e9a3a6d9d0"
      },
      "outputs": [
        {
          "name": "stdout",
          "output_type": "stream",
          "text": [
            "ALL-in 코딩 공모전에서 수상한 프로젝트들은 대학생들의 캠퍼스 문제를 해결하기 위한 혁신적인 아이디어로 구성되어 있습니다.\n",
            "\n",
            "수상작 중 'Lexi Note'는 효율적인 언어 학습을 위한 웹 서비스이며, 'Crewing'은 동아리 정보 플랫폼으로 신입생들이 적합한 동아리를 찾도록 돕습니다.\n",
            "\n",
            "'에코 클래스룸'은 학생과 교수 간의 실시간 소통을 개선하여 이해도를 파악할 수 있게 해주는 서비스입니다.\n"
          ]
        }
      ],
      "source": [
        "llm = ChatOpenAI(model=\"gpt-4o-mini\")\n",
        "response = llm.invoke(user_prompt)\n",
        "\n",
        "# 깔끔하게 출력\n",
        "formatted_response = response.content.replace(\". \", \".\\n\\n\")\n",
        "print(formatted_response)"
      ]
    },
    {
      "cell_type": "markdown",
      "metadata": {},
      "source": [
        "## gpt-4.1-mini ($0.40 / $1.60)"
      ]
    },
    {
      "cell_type": "code",
      "execution_count": 15,
      "metadata": {},
      "outputs": [
        {
          "name": "stdout",
          "output_type": "stream",
          "text": [
            "ALL-in 코딩 공모전 수상작들은 대학생들이 캠퍼스 내 문제를 창의적으로 해결한 웹/앱 서비스들입니다.\n",
            "\n",
            "대상작인 <Lexi Note>는 어문학 전공자의 언어 학습을 돕는 필기 통합 웹 서비스이고, 입선작 <Crewing>은 연합 동아리 정보 플랫폼, <학교생활 매니저>는 학교생활을 효율적으로 관리하는 서비스입니다.\n",
            "\n",
            "우수상 <에코 클래스룸>은 익명 소통 기능을 통해 교수와 학생 간 실시간 피드백을 지원하는 수업 소통 서비스입니다.\n"
          ]
        }
      ],
      "source": [
        "llm = ChatOpenAI(model=\"gpt-4.1-mini\")\n",
        "response = llm.invoke(user_prompt)\n",
        "\n",
        "# 깔끔하게 출력\n",
        "formatted_response = response.content.replace(\". \", \".\\n\\n\")\n",
        "print(formatted_response)"
      ]
    },
    {
      "cell_type": "markdown",
      "metadata": {},
      "source": [
        "## gpt-4.1-nano ($0.10 / $0.40)"
      ]
    },
    {
      "cell_type": "code",
      "execution_count": 16,
      "metadata": {},
      "outputs": [
        {
          "name": "stdout",
          "output_type": "stream",
          "text": [
            "ALL-in 코딩 공모전 수상작은 대학생들이 캠퍼스 문제 해결을 위해 만든 웹/앱 서비스입니다.\n",
            "\n",
            "대상작은 언어 학습을 돕는 'Lexi Note'로, 사전, 번역기, 필기 기능을 통합한 언어 학습 지원 서비스입니다.\n",
            "\n",
            "입상작들은 동아리 정보 플랫폼, 학교생활 매니저, 실시간 수업 소통 서비스 등 캠퍼스 생활과 학습 환경을 개선하는 다양한 아이디어를 담고 있습니다.\n"
          ]
        }
      ],
      "source": [
        "llm = ChatOpenAI(model=\"gpt-4.1-nano\")\n",
        "response = llm.invoke(user_prompt)\n",
        "\n",
        "# 깔끔하게 출력\n",
        "formatted_response = response.content.replace(\". \", \".\\n\\n\")\n",
        "print(formatted_response)"
      ]
    },
    {
      "cell_type": "markdown",
      "metadata": {},
      "source": [
        "# 결론\n",
        "\n",
        "비용 측면에서 어떤것을 써야 할지 생각해 보았다.\n",
        "nano는 너무 요약한거 같다.\n",
        "\n",
        "4.1-mini와 4o-mini 2개가 성능이 비슷한데. 비용이 4o-mini가 더 싸니까 4o-mini 로 결정!"
      ]
    }
  ],
  "metadata": {
    "colab": {
      "provenance": []
    },
    "kernelspec": {
      "display_name": "aistudy",
      "language": "python",
      "name": "python3"
    },
    "language_info": {
      "codemirror_mode": {
        "name": "ipython",
        "version": 3
      },
      "file_extension": ".py",
      "mimetype": "text/x-python",
      "name": "python",
      "nbconvert_exporter": "python",
      "pygments_lexer": "ipython3",
      "version": "3.12.9"
    }
  },
  "nbformat": 4,
  "nbformat_minor": 0
}
